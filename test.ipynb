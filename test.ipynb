{
 "cells": [
  {
   "cell_type": "code",
   "execution_count": 1,
   "metadata": {},
   "outputs": [],
   "source": [
    "import torch\n",
    "def get_rays_mvs(H, W, intrinsic, c2w, N=1024, isRandom=True, is_precrop_iters=False, chunk=-1, idx=-1):\n",
    "    \"\"\"\n",
    "    rays_o              :\n",
    "    rays_d              :\n",
    "    pixel_coordinates   :\n",
    "    \"\"\"\n",
    "    device = c2w.device\n",
    "    if isRandom:\n",
    "        if is_precrop_iters and torch.rand((1,)) > 0.3:\n",
    "            xs, ys = torch.randint(W//6, W-W//6, (N,)).float().to(device), torch.randint(H//6, H-H//6, (N,)).float().to(device)\n",
    "        else:\n",
    "            xs, ys = torch.randint(0,W,(N,)).float().to(device), torch.randint(0,H,(N,)).float().to(device)\n",
    "    else:\n",
    "        ys, xs = torch.meshgrid(torch.linspace(0, H - 1, H), torch.linspace(0, W - 1, W))  # pytorch's meshgrid has indexing='ij'\n",
    "        ys, xs = ys.reshape(-1), xs.reshape(-1)\n",
    "        if chunk>0:\n",
    "            ys, xs = ys[idx*chunk:(idx+1)*chunk], xs[idx*chunk:(idx+1)*chunk]\n",
    "        ys, xs = ys.to(device), xs.to(device)\n",
    "\n",
    "    dirs = torch.stack([(xs-intrinsic[0,2])/intrinsic[0,0], (ys-intrinsic[1,2])/intrinsic[1,1], torch.ones_like(xs)], -1) # use 1 instead of -1\n",
    "\n",
    "\n",
    "    rays_d = dirs @ c2w[:3,:3].t() # dot product, equals to: [c2w.dot(dir) for dir in dirs]\n",
    "    # Translate camera frame's origin to the world frame. It is the origin of all rays.\n",
    "    rays_o = c2w[:3,-1].clone()\n",
    "    pixel_coordinates = torch.stack((ys,xs)) # row col\n",
    "    return rays_o, rays_d, pixel_coordinates"
   ]
  },
  {
   "cell_type": "code",
   "execution_count": 2,
   "metadata": {},
   "outputs": [
    {
     "name": "stdout",
     "output_type": "stream",
     "text": [
      "torch.Size([3]) torch.Size([1024, 3]) torch.Size([2, 1024])\n"
     ]
    }
   ],
   "source": [
    "intrinsic = torch.rand(3, 3)\n",
    "c2w = torch.rand(3, 4)\n",
    "rays_o, rays_d, pixel_coordinates = get_rays_mvs(64, 64, intrinsic, c2w)\n",
    "print(rays_o.shape, rays_d.shape, pixel_coordinates.shape)"
   ]
  }
 ],
 "metadata": {
  "kernelspec": {
   "display_name": "Python 3",
   "language": "python",
   "name": "python3"
  },
  "language_info": {
   "codemirror_mode": {
    "name": "ipython",
    "version": 3
   },
   "file_extension": ".py",
   "mimetype": "text/x-python",
   "name": "python",
   "nbconvert_exporter": "python",
   "pygments_lexer": "ipython3",
   "version": "3.10.11"
  }
 },
 "nbformat": 4,
 "nbformat_minor": 2
}
