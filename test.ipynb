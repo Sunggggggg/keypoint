{
 "cells": [
  {
   "cell_type": "code",
   "execution_count": 17,
   "metadata": {},
   "outputs": [
    {
     "name": "stdout",
     "output_type": "stream",
     "text": [
      "[10]\n",
      "(52,)\n"
     ]
    }
   ],
   "source": [
    "import numpy as np\n",
    "num_frames = 156\n",
    "left_bound = 0\n",
    "right_bound = num_frames - 1\n",
    "candidate_ids = np.arange(left_bound, right_bound)\n",
    "nframe_view = 92\n",
    "\n",
    "id_feat = np.random.choice(candidate_ids, size=1, replace=False)\n",
    "print(id_feat)\n",
    "candidate_ids = candidate_ids[(candidate_ids < (id_feat - nframe_view)) | (candidate_ids > (id_feat + nframe_view))]\n",
    "print(candidate_ids.shape)"
   ]
  },
  {
   "cell_type": "code",
   "execution_count": 11,
   "metadata": {},
   "outputs": [
    {
     "data": {
      "text/plain": [
       "(0,)"
      ]
     },
     "execution_count": 11,
     "metadata": {},
     "output_type": "execute_result"
    }
   ],
   "source": [
    "uv = np.random.randn((256, 256, 2))\n",
    "\n",
    "rix = np.random.permutation(uv.shape[0])\n",
    "rix = rix[:1024]\n",
    "uv = uv[rix]\n",
    "rgb = rgb[rix]"
   ]
  }
 ],
 "metadata": {
  "kernelspec": {
   "display_name": "Python 3",
   "language": "python",
   "name": "python3"
  },
  "language_info": {
   "codemirror_mode": {
    "name": "ipython",
    "version": 3
   },
   "file_extension": ".py",
   "mimetype": "text/x-python",
   "name": "python",
   "nbconvert_exporter": "python",
   "pygments_lexer": "ipython3",
   "version": "3.10.11"
  }
 },
 "nbformat": 4,
 "nbformat_minor": 2
}
